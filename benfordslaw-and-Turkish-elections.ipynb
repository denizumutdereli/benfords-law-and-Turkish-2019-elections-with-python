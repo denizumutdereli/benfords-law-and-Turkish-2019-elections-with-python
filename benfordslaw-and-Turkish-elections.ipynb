{
 "cells": [
  {
   "cell_type": "markdown",
   "id": "47c3ab22",
   "metadata": {},
   "source": [
    "# Turkish 2019 Elections in a perspective of Benford's Law with using Python"
   ]
  },
  {
   "cell_type": "markdown",
   "id": "59289733",
   "metadata": {},
   "source": [
    "Let's see how Benford's Law can be used in Python and how it looks in Turkey 2019 local elections"
   ]
  },
  {
   "cell_type": "markdown",
   "id": "2aa50c16",
   "metadata": {},
   "source": [
    "### What is Benford’s Law?"
   ]
  },
  {
   "cell_type": "markdown",
   "id": "9644099a",
   "metadata": {},
   "source": [
    "Before starting lets explain a little bit Benford's Law. ref: <a href=\"https://en.wikipedia.org/wiki/Benford%27s_law\" target=\"_blank\">Wikipedia</a>"
   ]
  },
  {
   "cell_type": "markdown",
   "id": "7ac5f07c",
   "metadata": {},
   "source": [
    "A better description at: <a href=\"https://brilliant.org/wiki/benfords-law/\">Brilliant</a> thanks to, Patrick Corn, Hua Zhi Vee, Christopher Williams, E. Ross and J.Khim <br><b>Benford's law</b> is an observation about the leading digits of the numbers found in real-world data sets. Intuitively, one might expect that the leading digits of these numbers would be uniformly distributed so that each of the digits from 1 to 9 is equally likely to appear. In fact, it is often the case that 1 occurs more frequently than 2, 2 more frequently than 3, and so on. This observation is a simplified version of Benford's law. More precisely, the law gives a prediction of the frequency of leading digits using base-10 logarithms that predicts specific frequencies which decrease as the digits increase from 1 to 9."
   ]
  },
  {
   "cell_type": "markdown",
   "id": "041df533",
   "metadata": {},
   "source": [
    "<img src=\"rozklad_benforda.png\" width=500 style=\"float:left;padding-left:20px\">\n",
    "<p>The distribution of first digits, according to Benford's law. Each bar represents a digit, and the height of the bar is the percentage of numbers that start with that digit.</p>\n",
    "<p style=\"padding-right:20px\">This phenomenon occurs generally in many different instances of real-world data. It becomes more pronounced and more likely when more data is combined together from different sources. Not every data set satisfies Benford's law, and it is surprisingly difficult to explain the law's occurrence in the data sets it does describe, but nevertheless it does occur consistently in well-understood circumstances. Scientists have even begun to use versions of the law to detect potential fraud in published data (tax returns, election results) that are expected to satisfy the law. </p>"
   ]
  },
  {
   "cell_type": "markdown",
   "id": "a17bedd8",
   "metadata": {},
   "source": [
    "In this study, we will look at how Benford's Law can be integrated into Python.\n",
    "After making sure that the algorithm works correctly, we will analyze the results of the 2019 Local Elections in Turkey."
   ]
  },
  {
   "cell_type": "code",
   "execution_count": 163,
   "id": "30334512",
   "metadata": {},
   "outputs": [],
   "source": [
    "#importing Matplotlib a creating a dictionary for numbers with zero values.\n",
    "#The dictionary will hold the numbers 1-9 and we will increment each number to analyze the ratios."
   ]
  },
  {
   "cell_type": "code",
   "execution_count": 164,
   "id": "a876bb4c",
   "metadata": {},
   "outputs": [],
   "source": [
    "import matplotlib.pyplot as plt\n",
    "from tabulate import tabulate\n",
    "from functools import reduce\n",
    "import random\n",
    "\n",
    "letters = {\n",
    "    '1': 0,\n",
    "    '2': 0,\n",
    "    '3': 0,\n",
    "    '4': 0,\n",
    "    '5': 0,\n",
    "    '6': 0,\n",
    "    '7': 0,\n",
    "    '8': 0,\n",
    "    '9': 0\n",
    "}\n",
    "\n",
    "colours = ['#b0dfe5','#95C8D8','#73C2FB','#89cff0','#7285A5','#588BAE','#468284','#1c6e78','#4C516D']\n",
    "#fibonacci series for testing\n",
    "def iterativeFibIntoList(n):\n",
    "    a, b = 0, 1\n",
    "    l = []\n",
    "    for i in range(n):\n",
    "        a, b = b, a + b\n",
    "        l.append(a)\n",
    "    return l\n",
    "\n",
    "list_of_nums = iterativeFibIntoList(1000)\n",
    "\n",
    "for n in list_of_nums:\n",
    "    first_digit = str(n)[0]\n",
    "    letters[first_digit] += 1"
   ]
  },
  {
   "cell_type": "code",
   "execution_count": 165,
   "id": "216aae89",
   "metadata": {},
   "outputs": [],
   "source": [
    "x_fib = list(letters.keys())\n",
    "y_fib = [round(val / 1000, 2) for val in letters.values()]"
   ]
  },
  {
   "cell_type": "code",
   "execution_count": 166,
   "id": "99420345",
   "metadata": {},
   "outputs": [
    {
     "data": {
      "image/png": "[encoded data removed]",
      "text/plain": [
       "<Figure size 432x288 with 1 Axes>"
      ]
     },
     "metadata": {
      "needs_background": "light"
     },
     "output_type": "display_data"
    }
   ],
   "source": [
    "bars = plt.bar(x_fib, y_fib, color=colours)\n",
    "\n",
    "for bar in bars:\n",
    "    height = bar.get_height()\n",
    "\n",
    "    plt.annotate(f'{height}',\n",
    "        xy = (bar.get_x() + bar.get_width() / 2, height),\n",
    "        xytext = (0, 3),\n",
    "        textcoords = 'offset points',\n",
    "        ha = 'center',\n",
    "        va = 'bottom'\n",
    "    )"
   ]
  },
  {
   "cell_type": "code",
   "execution_count": 167,
   "id": "5eb2806f",
   "metadata": {},
   "outputs": [],
   "source": [
    "#Lets try an another example by creating an another series \n",
    "letters = {\n",
    "    '1': 0,\n",
    "    '2': 0,\n",
    "    '3': 0,\n",
    "    '4': 0,\n",
    "    '5': 0,\n",
    "    '6': 0,\n",
    "    '7': 0,\n",
    "    '8': 0,\n",
    "    '9': 0\n",
    "}\n",
    "\n",
    "list_of_nums = map(lambda x: x+random.randint(1,100)*x, range(1,500))\n",
    "list_of_nums = list(list_of_nums)\n",
    "#print(list_of_nums)\n",
    "\n",
    "for n in list_of_nums:\n",
    "    first_digit = str(n)[0]\n",
    "    letters[first_digit] += 1\n"
   ]
  },
  {
   "cell_type": "code",
   "execution_count": 168,
   "id": "1b51c751",
   "metadata": {},
   "outputs": [],
   "source": [
    "x_rand = list(letters.keys())\n",
    "y_rand = [round(val / 499, 2) for val in letters.values()]"
   ]
  },
  {
   "cell_type": "code",
   "execution_count": 169,
   "id": "547df31c",
   "metadata": {},
   "outputs": [
    {
     "data": {
      "image/png": "[encoded data removed]",
      "text/plain": [
       "<Figure size 432x288 with 1 Axes>"
      ]
     },
     "metadata": {
      "needs_background": "light"
     },
     "output_type": "display_data"
    }
   ],
   "source": [
    "bars = plt.bar(x_rand, y_rand, color=colours)\n",
    "\n",
    "for bar in bars:\n",
    "    height = bar.get_height()\n",
    "\n",
    "    plt.annotate(f'{height}',\n",
    "        xy = (bar.get_x() + bar.get_width() / 2, height),\n",
    "        xytext = (0, 3),\n",
    "        textcoords = 'offset points',\n",
    "        ha = 'center',\n",
    "        va = 'bottom'\n",
    "    )"
   ]
  },
  {
   "cell_type": "code",
   "execution_count": 170,
   "id": "f6a1cda4",
   "metadata": {},
   "outputs": [
    {
     "name": "stdout",
     "output_type": "stream",
     "text": [
      "+----------+--------------------+-----------------+\n",
      "|   Number |   Fibonacci Series |   Random Series |\n",
      "+==========+====================+=================+\n",
      "|        1 |               0.30 |            0.31 |\n",
      "+----------+--------------------+-----------------+\n",
      "|        2 |               0.18 |            0.25 |\n",
      "+----------+--------------------+-----------------+\n",
      "|        3 |               0.12 |            0.14 |\n",
      "+----------+--------------------+-----------------+\n",
      "|        4 |               0.10 |            0.08 |\n",
      "+----------+--------------------+-----------------+\n",
      "|        5 |               0.08 |            0.04 |\n",
      "+----------+--------------------+-----------------+\n",
      "|        6 |               0.07 |            0.06 |\n",
      "+----------+--------------------+-----------------+\n",
      "|        7 |               0.06 |            0.03 |\n",
      "+----------+--------------------+-----------------+\n",
      "|        8 |               0.05 |            0.04 |\n",
      "+----------+--------------------+-----------------+\n",
      "|        9 |               0.04 |            0.05 |\n",
      "+----------+--------------------+-----------------+\n"
     ]
    }
   ],
   "source": [
    "data = zip(x,y_fib,y_rand)\n",
    "\n",
    "head = [\"Number\",\"Fibonacci Series\", 'Random Series']\n",
    "\n",
    "print(tabulate(data, headers=head, tablefmt=\"grid\", floatfmt = \".2f\"))\n"
   ]
  },
  {
   "cell_type": "markdown",
   "id": "e4678eb9",
   "metadata": {},
   "source": [
    "<b>Let's see how Benford's Law can be used in Python and how it looks in Turkey 2019 local elections</b>"
   ]
  },
  {
   "cell_type": "markdown",
   "id": "29f25e1c",
   "metadata": {},
   "source": [
    "Dataset is 2019_Istanbul.xlsx. You can download from github or from original site <a href=\"https://www.ysk.gov.tr/tr/31-mart-2019-mahalli-i%CC%87dareler-secimi/77916\" target=\"_blank\">YSK</a>\n",
    "\n",
    "Dataset includes all cities and counties and their votes. There are two parties AK Parti and CHP.\n",
    "In this study we are examining each parties votes count and their summaries with the Benford's Law\n",
    "\n",
    "\n",
    "<img style=\"float:left;padding-right:20px\" src=\"https://upload.wikimedia.org/wikipedia/tr/thumb/d/d5/Adalet_ve_Kalk%C4%B1nma_Partisi_logo.png/124px-Adalet_ve_Kalk%C4%B1nma_Partisi_logo.png\" width=\"150\"><p style=\"margin-top:100px;margin-left:30px\">First we are looking to <b>AK Parti's</b> votes.</p>"
   ]
  },
  {
   "cell_type": "code",
   "execution_count": 171,
   "id": "ddd790c1",
   "metadata": {},
   "outputs": [
    {
     "name": "stdout",
     "output_type": "stream",
     "text": [
      "    CityName CountyName PartyName  PartyVotes\n",
      "799    DÜZCE   CUMAYERI  AK Parti        2657\n",
      "800    DÜZCE    GÖLYAKA  AK Parti        3330\n",
      "801    DÜZCE    ÇILIMLI  AK Parti        2288\n",
      "802    DÜZCE   GÜMÜSOVA  AK Parti        2336\n",
      "803    DÜZCE   KAYNASLI  AK Parti        2333\n"
     ]
    }
   ],
   "source": [
    "import pandas as pd\n",
    "from pandas import ExcelWriter\n",
    "from pandas import ExcelFile\n",
    "\n",
    "df = pd.read_excel('2019_Turkey.xlsx', sheet_name='akp')#akp\n",
    "\n",
    "\n",
    "\n",
    "votesNormal = {\n",
    "    '1': 0,\n",
    "    '2': 0,\n",
    "    '3': 0,\n",
    "    '4': 0,\n",
    "    '5': 0,\n",
    "    '6': 0,\n",
    "    '7': 0,\n",
    "    '8': 0,\n",
    "    '9': 0\n",
    "}\n",
    "\n",
    "PartyVotes = df['PartyVotes'] \n",
    "\n",
    "for n in PartyVotes:\n",
    "    first_digit = str(n)[0]\n",
    "    votesNormal[first_digit] += 1\n",
    "    \n",
    "#looking to first 5 lines\n",
    "print(df.tail(n=5))"
   ]
  },
  {
   "cell_type": "code",
   "execution_count": 172,
   "id": "5e1928a8",
   "metadata": {},
   "outputs": [],
   "source": [
    "x_akp = list(votesNormal.keys())\n",
    "y_akp = [round(val / len(PartyVotes), 2) for val in letters.values()]"
   ]
  },
  {
   "cell_type": "code",
   "execution_count": 173,
   "id": "4c183f13",
   "metadata": {},
   "outputs": [
    {
     "data": {
      "image/png": "[encoded data removed]",
      "text/plain": [
       "<Figure size 432x288 with 1 Axes>"
      ]
     },
     "metadata": {
      "needs_background": "light"
     },
     "output_type": "display_data"
    }
   ],
   "source": [
    "bars = plt.bar(x_akp, y_akp, color=colours)\n",
    "\n",
    "for bar in bars:\n",
    "    height = bar.get_height()\n",
    "\n",
    "    plt.annotate(f'{height}',\n",
    "        xy = (bar.get_x() + bar.get_width() / 2, height),\n",
    "        xytext = (0, 3),\n",
    "        textcoords = 'offset points',\n",
    "        ha = 'center',\n",
    "        va = 'bottom'\n",
    "    )"
   ]
  },
  {
   "cell_type": "markdown",
   "id": "c8b4dcf6",
   "metadata": {},
   "source": [
    "<hr>\n",
    "<img style=\"float:left;padding-right:20px\" src=\"https://upload.wikimedia.org/wikipedia/commons/thumb/e/ef/Cumhuriyet_Halk_Partisi_Logo.svg/126px-Cumhuriyet_Halk_Partisi_Logo.svg.png\" width=\"150\"><p style=\"margin-top:50px\">Now we are looking to <b>CHP's</b> votes.</p>"
   ]
  },
  {
   "cell_type": "code",
   "execution_count": 174,
   "id": "05983f8a",
   "metadata": {},
   "outputs": [
    {
     "name": "stdout",
     "output_type": "stream",
     "text": [
      "     CityName  CountyName PartyName  PartyVotes\n",
      "509  OSMANIYE      DÜZIÇI       CHP       17133\n",
      "510  OSMANIYE  TOPRAKKALE       CHP        1483\n",
      "511     DÜZCE    AKÇAKOCA       CHP        3930\n",
      "512     DÜZCE     YIGILCA       CHP         148\n",
      "513     DÜZCE     GÖLYAKA       CHP        1045\n"
     ]
    }
   ],
   "source": [
    "import pandas as pd\n",
    "from pandas import ExcelWriter\n",
    "from pandas import ExcelFile\n",
    "\n",
    "df = pd.read_excel('2019_Turkey.xlsx', sheet_name='chp')#chp\n",
    "\n",
    "\n",
    "\n",
    "votesNormal = {\n",
    "    '1': 0,\n",
    "    '2': 0,\n",
    "    '3': 0,\n",
    "    '4': 0,\n",
    "    '5': 0,\n",
    "    '6': 0,\n",
    "    '7': 0,\n",
    "    '8': 0,\n",
    "    '9': 0\n",
    "}\n",
    "\n",
    "PartyVotes = df['PartyVotes'] \n",
    "\n",
    "for n in PartyVotes:\n",
    "    first_digit = str(n)[0]\n",
    "    votesNormal[first_digit] += 1\n",
    "    \n",
    "#looking to first 5 lines\n",
    "print(df.tail(n=5))"
   ]
  },
  {
   "cell_type": "code",
   "execution_count": 175,
   "id": "a1ad975c",
   "metadata": {},
   "outputs": [],
   "source": [
    "x_chp = list(votesNormal.keys())\n",
    "y_chp = [round(val / len(PartyVotes), 2) for val in letters.values()]"
   ]
  },
  {
   "cell_type": "code",
   "execution_count": 176,
   "id": "cd5987e7",
   "metadata": {},
   "outputs": [
    {
     "data": {
      "image/png": "[encoded data removed]",
      "text/plain": [
       "<Figure size 432x288 with 1 Axes>"
      ]
     },
     "metadata": {
      "needs_background": "light"
     },
     "output_type": "display_data"
    }
   ],
   "source": [
    "bars = plt.bar(x_chp, y_chp, color=colours)\n",
    "\n",
    "for bar in bars:\n",
    "    height = bar.get_height()\n",
    "\n",
    "    plt.annotate(f'{height}',\n",
    "        xy = (bar.get_x() + bar.get_width() / 2, height),\n",
    "        xytext = (0, 3),\n",
    "        textcoords = 'offset points',\n",
    "        ha = 'center',\n",
    "        va = 'bottom'\n",
    "    )"
   ]
  },
  {
   "cell_type": "markdown",
   "id": "cfc55651",
   "metadata": {},
   "source": [
    "## Conclusion\n",
    "<hr>\n",
    "\n",
    "<b>As a result</b>, we can compare ratios and detect abnormalities in a perspective of Benford's Law.\n",
    "Which looks normal in total."
   ]
  },
  {
   "cell_type": "code",
   "execution_count": 177,
   "id": "9947ee9b",
   "metadata": {},
   "outputs": [
    {
     "name": "stdout",
     "output_type": "stream",
     "text": [
      "+----------+--------------------+-----------------+-------+------------+\n",
      "|   Number |   Fibonacci Series |   Random Series |   CHP |   AK Parti |\n",
      "+==========+====================+=================+=======+============+\n",
      "|        1 |               0.30 |            0.31 |  0.30 |       0.19 |\n",
      "+----------+--------------------+-----------------+-------+------------+\n",
      "|        2 |               0.18 |            0.25 |  0.24 |       0.15 |\n",
      "+----------+--------------------+-----------------+-------+------------+\n",
      "|        3 |               0.12 |            0.14 |  0.14 |       0.09 |\n",
      "+----------+--------------------+-----------------+-------+------------+\n",
      "|        4 |               0.10 |            0.08 |  0.07 |       0.05 |\n",
      "+----------+--------------------+-----------------+-------+------------+\n",
      "|        5 |               0.08 |            0.04 |  0.04 |       0.03 |\n",
      "+----------+--------------------+-----------------+-------+------------+\n",
      "|        6 |               0.07 |            0.06 |  0.05 |       0.03 |\n",
      "+----------+--------------------+-----------------+-------+------------+\n",
      "|        7 |               0.06 |            0.03 |  0.03 |       0.02 |\n",
      "+----------+--------------------+-----------------+-------+------------+\n",
      "|        8 |               0.05 |            0.04 |  0.04 |       0.02 |\n",
      "+----------+--------------------+-----------------+-------+------------+\n",
      "|        9 |               0.04 |            0.05 |  0.05 |       0.03 |\n",
      "+----------+--------------------+-----------------+-------+------------+\n"
     ]
    }
   ],
   "source": [
    "data = zip(x,y_fib,y_rand,y_chp,y_akp)\n",
    "\n",
    "head = [\"Number\",\"Fibonacci Series\", 'Random Series', 'CHP', 'AK Parti']\n",
    "\n",
    "print(tabulate(data, headers=head, tablefmt=\"grid\", floatfmt = \".2f\"))"
   ]
  },
  {
   "cell_type": "markdown",
   "id": "1b875ada",
   "metadata": {},
   "source": [
    "<a href=\"https://www.linkedin.com/in/denizumutdereli/\" target=\"_blank\">@Deniz Umut Dereli</a>"
   ]
  }
 ],
 "metadata": {
  "celltoolbar": "Raw Cell Format",
  "kernelspec": {
   "display_name": "Python 3 (ipykernel)",
   "language": "python",
   "name": "python3"
  },
  "language_info": {
   "codemirror_mode": {
    "name": "ipython",
    "version": 3
   },
   "file_extension": ".py",
   "mimetype": "text/x-python",
   "name": "python",
   "nbconvert_exporter": "python",
   "pygments_lexer": "ipython3",
   "version": "3.9.5"
  }
 },
 "nbformat": 4,
 "nbformat_minor": 5
}
